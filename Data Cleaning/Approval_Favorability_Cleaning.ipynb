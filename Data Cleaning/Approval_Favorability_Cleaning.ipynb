{
 "cells": [
  {
   "cell_type": "markdown",
   "id": "d9c8bf66-9a9b-4c0e-ae0d-67866de0a6d5",
   "metadata": {},
   "source": [
    "# This script is to prepare the Trump favorability and approval rating data for use in the endorsment analysis project"
   ]
  },
  {
   "cell_type": "code",
   "execution_count": 2,
   "id": "d14e27a2-f31f-4dac-84ec-9137cd5a298c",
   "metadata": {},
   "outputs": [],
   "source": [
    "# Import required packages\n",
    "import numpy as np \n",
    "import pandas as pd \n",
    "import seaborn as sns"
   ]
  },
  {
   "cell_type": "code",
   "execution_count": null,
   "id": "d96c256a-e10b-4abe-86df-f7276d29cab5",
   "metadata": {},
   "outputs": [],
   "source": []
  }
 ],
 "metadata": {
  "kernelspec": {
   "display_name": "Python 3 (ipykernel)",
   "language": "python",
   "name": "python3"
  },
  "language_info": {
   "codemirror_mode": {
    "name": "ipython",
    "version": 3
   },
   "file_extension": ".py",
   "mimetype": "text/x-python",
   "name": "python",
   "nbconvert_exporter": "python",
   "pygments_lexer": "ipython3",
   "version": "3.10.4"
  }
 },
 "nbformat": 4,
 "nbformat_minor": 5
}
